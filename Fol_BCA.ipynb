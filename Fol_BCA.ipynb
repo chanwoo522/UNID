{
 "cells": [
  {
   "cell_type": "code",
   "execution_count": 1,
   "id": "4057541e",
   "metadata": {},
   "outputs": [],
   "source": [
    "from utils import *\n",
    "from logic import *\n",
    "from notebook import psource"
   ]
  },
  {
   "cell_type": "markdown",
   "id": "4465ae3b",
   "metadata": {},
   "source": [
    "# crime KB 입력"
   ]
  },
  {
   "cell_type": "code",
   "execution_count": 2,
   "id": "d6a6c512",
   "metadata": {},
   "outputs": [],
   "source": [
    "clauses = []\n",
    "clauses.append(expr(\"(American(x) & Weapon(y) & Sells(x, y, z) & Hostile(z)) ==> Criminal(x)\"))\n",
    "clauses.append(expr(\"Enemy(Nono, America)\"))\n",
    "clauses.append(expr(\"Owns(Nono, M1)\"))\n",
    "clauses.append(expr(\"Missile(M1)\"))\n",
    "clauses.append(expr(\"(Missile(x) & Owns(Nono, x)) ==> Sells(West, x, Nono)\"))\n",
    "clauses.append(expr(\"American(West)\"))\n",
    "clauses.append(expr(\"Missile(x) ==> Weapon(x)\"))\n",
    "clauses.append(expr(\"Enemy(x, America) ==> Hostile(x)\"))\n",
    "crime_kb = FolKB(clauses)"
   ]
  },
  {
   "cell_type": "markdown",
   "id": "9c0b7dc0",
   "metadata": {},
   "source": [
    "# Backward chaining Algorithm"
   ]
  },
  {
   "cell_type": "code",
   "execution_count": 3,
   "id": "7dde74db",
   "metadata": {},
   "outputs": [],
   "source": [
    "def fol_bc_ask(kb, query):\n",
    "    return fol_bc_or(kb, query, {})"
   ]
  },
  {
   "cell_type": "markdown",
   "id": "92ff4eaa",
   "metadata": {},
   "source": [
    "#### OR"
   ]
  },
  {
   "cell_type": "raw",
   "id": "c6048996",
   "metadata": {},
   "source": [
    "def is_definite_clause(s):\n",
    "    \"\"\"Returns True for exprs s of the form A & B & ... & C ==> D,\n",
    "    where all literals are positive. In clause form, this is\n",
    "    ~A | ~B | ... | ~C | D, where exactly one clause is positive.\n",
    "    >>> is_definite_clause(expr('Farmer(Mac)'))\n",
    "    True\n",
    "    \"\"\"\n",
    "    if is_symbol(s.op):\n",
    "        return True\n",
    "    elif s.op == '==>':\n",
    "        antecedent, consequent = s.args\n",
    "        return is_symbol(consequent.op) and all(is_symbol(arg.op) for arg in conjuncts(antecedent))\n",
    "    else:\n",
    "        return False"
   ]
  },
  {
   "cell_type": "raw",
   "id": "51368609",
   "metadata": {},
   "source": [
    "def is_symbol(s):\n",
    "    \"\"\"A string s is a symbol if it starts with an alphabetic char.\n",
    "    >>> is_symbol('R2D2')\n",
    "    True\n",
    "    \"\"\"\n",
    "    return isinstance(s, str) and s[:1].isalpha()"
   ]
  },
  {
   "cell_type": "raw",
   "id": "fde3d812",
   "metadata": {},
   "source": [
    "def parse_definite_clause(s):\n",
    "    \"\"\"Return the antecedents and the consequent of a definite clause.\"\"\"\n",
    "    assert is_definite_clause(s)\n",
    "    if is_symbol(s.op):\n",
    "        return [], s\n",
    "    else:\n",
    "        antecedent, consequent = s.args\n",
    "        return conjuncts(antecedent), consequent"
   ]
  },
  {
   "cell_type": "raw",
   "id": "04d39817",
   "metadata": {},
   "source": [
    "def standardize_variables(sentence, dic=None):\n",
    "    \"\"\"Replace all the variables in sentence with new variables.\"\"\"\n",
    "    if dic is None:\n",
    "        dic = {}\n",
    "    if not isinstance(sentence, Expr):\n",
    "        return sentence\n",
    "    elif is_var_symbol(sentence.op):\n",
    "        if sentence in dic:\n",
    "            return dic[sentence]\n",
    "        else:\n",
    "            v = Expr('v_{}'.format(next(standardize_variables.counter)))\n",
    "            dic[sentence] = v\n",
    "            return v\n",
    "    else:\n",
    "        return Expr(sentence.op, *[standardize_variables(a, dic) for a in sentence.args])\n",
    "\n",
    "\n",
    "standardize_variables.counter = itertools.count()"
   ]
  },
  {
   "cell_type": "raw",
   "id": "e8d4bacb",
   "metadata": {},
   "source": [
    "class FolKB(KB):\n",
    "    def fetch_rules_for_goal(self, goal):\n",
    "        return self.clauses"
   ]
  },
  {
   "cell_type": "code",
   "execution_count": 4,
   "id": "6e92d430",
   "metadata": {},
   "outputs": [],
   "source": [
    "def fol_bc_or(KB, goal, theta):\n",
    "    for rule in KB.fetch_rules_for_goal(goal):\n",
    "        lhs, rhs = parse_definite_clause(standardize_variables(rule))\n",
    "        for theta1 in fol_bc_and(KB, lhs, unify(rhs, goal, theta)):\n",
    "            yield theta1"
   ]
  },
  {
   "cell_type": "markdown",
   "id": "299fa90f",
   "metadata": {},
   "source": [
    "### And"
   ]
  },
  {
   "cell_type": "code",
   "execution_count": 5,
   "id": "1df75c69",
   "metadata": {},
   "outputs": [],
   "source": [
    "def fol_bc_and(KB, goals, theta):\n",
    "    if theta is None:\n",
    "        pass\n",
    "    elif not goals:\n",
    "        yield theta\n",
    "    else:\n",
    "        first, rest = goals[0], goals[1:]\n",
    "        for theta1 in fol_bc_or(KB, subst(theta, first), theta):\n",
    "            for theta2 in fol_bc_and(KB, rest, theta1):\n",
    "                yield theta2"
   ]
  },
  {
   "cell_type": "markdown",
   "id": "a68cd22c",
   "metadata": {},
   "source": [
    "# Result"
   ]
  },
  {
   "cell_type": "code",
   "execution_count": 6,
   "id": "f233c9ab",
   "metadata": {
    "scrolled": true
   },
   "outputs": [
    {
     "data": {
      "text/plain": [
       "{v_5: Nono, x: Nono}"
      ]
     },
     "execution_count": 6,
     "metadata": {},
     "output_type": "execute_result"
    }
   ],
   "source": [
    "crime_kb.ask(expr('Hostile(x)'))"
   ]
  },
  {
   "cell_type": "code",
   "execution_count": 7,
   "id": "a5bb6c39",
   "metadata": {},
   "outputs": [
    {
     "data": {
      "text/plain": [
       "{v_9: West, x: West, v_20: M1, v_10: M1, v_27: M1, v_11: Nono, v_39: Nono}"
      ]
     },
     "execution_count": 7,
     "metadata": {},
     "output_type": "execute_result"
    }
   ],
   "source": [
    "crime_kb.ask(expr('Criminal(x)'))"
   ]
  },
  {
   "cell_type": "code",
   "execution_count": 8,
   "id": "cb19298e",
   "metadata": {
    "scrolled": true
   },
   "outputs": [
    {
     "data": {
      "text/plain": [
       "{v_43: West, v_54: M1, v_44: M1, v_61: M1, v_45: Nono, v_73: Nono}"
      ]
     },
     "execution_count": 8,
     "metadata": {},
     "output_type": "execute_result"
    }
   ],
   "source": [
    "crime_kb.ask(expr('Criminal(West)'))"
   ]
  },
  {
   "cell_type": "code",
   "execution_count": 9,
   "id": "e08a533a",
   "metadata": {},
   "outputs": [
    {
     "data": {
      "text/plain": [
       "{x: West}"
      ]
     },
     "execution_count": 9,
     "metadata": {},
     "output_type": "execute_result"
    }
   ],
   "source": [
    "crime_kb.ask(expr('American(x)'))"
   ]
  },
  {
   "cell_type": "code",
   "execution_count": 10,
   "id": "3ee1707f",
   "metadata": {},
   "outputs": [
    {
     "data": {
      "text/plain": [
       "{v_84: M1, x: West, z: Nono, y: M1}"
      ]
     },
     "execution_count": 10,
     "metadata": {},
     "output_type": "execute_result"
    }
   ],
   "source": [
    "crime_kb.ask(expr('Sells(x, y, z)'))"
   ]
  },
  {
   "cell_type": "code",
   "execution_count": 11,
   "id": "57222fee",
   "metadata": {},
   "outputs": [
    {
     "data": {
      "text/plain": [
       "{v_95: M1, y: M1}"
      ]
     },
     "execution_count": 11,
     "metadata": {},
     "output_type": "execute_result"
    }
   ],
   "source": [
    "crime_kb.ask(expr('Weapon(y)'))"
   ]
  },
  {
   "cell_type": "code",
   "execution_count": 12,
   "id": "d3467cc1",
   "metadata": {},
   "outputs": [
    {
     "name": "stdout",
     "output_type": "stream",
     "text": [
      "8.41 µs ± 164 ns per loop (mean ± std. dev. of 7 runs, 100 loops each)\n"
     ]
    }
   ],
   "source": [
    "%%timeit -n 100\n",
    "fol_fc_ask(crime_kb, expr('Criminal(x)'))"
   ]
  },
  {
   "cell_type": "code",
   "execution_count": 13,
   "id": "d9ceef60",
   "metadata": {},
   "outputs": [
    {
     "name": "stdout",
     "output_type": "stream",
     "text": [
      "1.51 ms ± 15.3 µs per loop (mean ± std. dev. of 7 runs, 100 loops each)\n"
     ]
    }
   ],
   "source": [
    "%%timeit -n 100\n",
    "crime_kb.ask(expr('Criminal(x)'))"
   ]
  },
  {
   "cell_type": "markdown",
   "id": "f0c53079",
   "metadata": {},
   "source": [
    "# Practice"
   ]
  },
  {
   "cell_type": "markdown",
   "id": "2b736e02",
   "metadata": {},
   "source": [
    "### 산업공학과 대학원 석사과정 졸업요건('21. 3월 개정)\n",
    "##### 실습을 위하여 상당 부분 요약 또는 생략하였습니다.\n",
    "1. 분야별 과목 수강: OMS, DS, TM 분야 모두를 수강해야 한다.\n",
    "2. 영어시험 합격: TOEFL 또는 TOEIC 또는 TEPS을 합격해야 한다.\n",
    "3. 논문을 발표해야 한다."
   ]
  },
  {
   "cell_type": "markdown",
   "id": "69017825",
   "metadata": {},
   "source": [
    "Graduate(x): x can get a master's degree\\\n",
    "Student(x): x is a student\\\n",
    "Subject(x, y): x passed all subjects y\\\n",
    "English(x, y): x acquired a english certification y\\\n",
    "Paper(x, y): x released a paper on the subject y"
   ]
  },
  {
   "cell_type": "markdown",
   "id": "79aa2296",
   "metadata": {},
   "source": [
    "Student(a) & Subject(a, x) & English(a, y) & Paper(a, z) => Graduate(a)"
   ]
  },
  {
   "cell_type": "markdown",
   "id": "07115dc8",
   "metadata": {},
   "source": [
    "##### case: 학생A는 분야별 과목을 모두 수강하였으며 영어시험은 TOEIC으로 합격했고 DS분야로 논문 발표를 마쳤다."
   ]
  },
  {
   "cell_type": "code",
   "execution_count": 14,
   "id": "333d4227",
   "metadata": {},
   "outputs": [],
   "source": [
    "clauses = []"
   ]
  },
  {
   "cell_type": "code",
   "execution_count": 15,
   "id": "d2bc29bf",
   "metadata": {},
   "outputs": [],
   "source": [
    "clauses.append(expr('Student(a) & English(a, x) & Subject(a, o, d, t) & Paper(a, y) ==> Graduate(a)'))"
   ]
  },
  {
   "cell_type": "code",
   "execution_count": 16,
   "id": "f262e6b3",
   "metadata": {},
   "outputs": [],
   "source": [
    "clauses.append(expr('Student(Std_A)'))"
   ]
  },
  {
   "cell_type": "code",
   "execution_count": 17,
   "id": "fda0d82e",
   "metadata": {},
   "outputs": [],
   "source": [
    "clauses.append(expr('(OMS(x) & DS(y) & TM(z)) ==> Subject(a, x, y, z)'))\n",
    "clauses.append(expr('OMS_pass(O)'))\n",
    "clauses.append(expr('DS_pass(D)'))\n",
    "clauses.append(expr('TM_pass(T)'))\n",
    "clauses.append(expr('OMS_pass(x) ==> OMS(x)'))\n",
    "clauses.append(expr('DS_pass(x) ==> DS(x)'))\n",
    "clauses.append(expr('DS(x) ==> Paper(a, x)'))\n",
    "clauses.append(expr('TM_pass(x) ==> TM(x)'))"
   ]
  },
  {
   "cell_type": "code",
   "execution_count": 18,
   "id": "cbc9ac33",
   "metadata": {},
   "outputs": [],
   "source": [
    "clauses.append(expr('TOEIC(P)'))"
   ]
  },
  {
   "cell_type": "code",
   "execution_count": 19,
   "id": "85e2806e",
   "metadata": {},
   "outputs": [],
   "source": [
    "clauses.append(expr('TOEIC(x) ==> English(a, x)'))"
   ]
  },
  {
   "cell_type": "code",
   "execution_count": 20,
   "id": "ed67ec6a",
   "metadata": {},
   "outputs": [],
   "source": [
    "Gr_kb = FolKB(clauses)"
   ]
  },
  {
   "cell_type": "markdown",
   "id": "f654b5e3",
   "metadata": {},
   "source": [
    "##### Fol Backward Chaining Algorithm result"
   ]
  },
  {
   "cell_type": "code",
   "execution_count": 21,
   "id": "0ff6c82e",
   "metadata": {},
   "outputs": [
    {
     "data": {
      "text/plain": [
       "{v_23899: Std_A,\n",
       " a: Std_A,\n",
       " v_23927: Std_A,\n",
       " v_23926: P,\n",
       " v_23900: P,\n",
       " v_23952: Std_A,\n",
       " v_23949: O,\n",
       " v_23950: D,\n",
       " v_23951: T,\n",
       " v_23963: O,\n",
       " v_23901: O,\n",
       " v_23985: D,\n",
       " v_23902: D,\n",
       " v_24010: T,\n",
       " v_23903: T,\n",
       " v_24034: Std_A,\n",
       " v_24033: D,\n",
       " v_24046: D,\n",
       " v_23904: D}"
      ]
     },
     "execution_count": 21,
     "metadata": {},
     "output_type": "execute_result"
    }
   ],
   "source": [
    "Gr_kb.ask(expr('Graduate(a)'))"
   ]
  },
  {
   "cell_type": "code",
   "execution_count": 22,
   "id": "9fcd02e4",
   "metadata": {},
   "outputs": [
    {
     "data": {
      "text/html": [
       "\n",
       "<script type=\"text/javascript\" src=\"./js/canvas.js\"></script>\n",
       "<div>\n",
       "<canvas id=\"canvas_bc_ask\" width=\"800\" height=\"600\" style=\"background:rgba(158, 167, 184, 0.2);\" onclick='click_callback(this, event, \"canvas_bc_ask\")'></canvas>\n",
       "</div>\n",
       "\n",
       "<script> var canvas_bc_ask_canvas_object = new Canvas(\"canvas_bc_ask\");</script>\n"
      ],
      "text/plain": [
       "<IPython.core.display.HTML object>"
      ]
     },
     "metadata": {},
     "output_type": "display_data"
    },
    {
     "data": {
      "text/html": [
       "<script>\n",
       "canvas_bc_ask_canvas_object.clear();\n",
       "canvas_bc_ask_canvas_object.strokeWidth(3);\n",
       "canvas_bc_ask_canvas_object.stroke(0, 0, 0);\n",
       "canvas_bc_ask_canvas_object.font(\"12px Arial\");\n",
       "canvas_bc_ask_canvas_object.fill(200, 200, 200);\n",
       "canvas_bc_ask_canvas_object.rect(340, 64, 120, 30);\n",
       "canvas_bc_ask_canvas_object.line(340, 64, 460, 64);\n",
       "canvas_bc_ask_canvas_object.line(340, 64, 340, 94);\n",
       "canvas_bc_ask_canvas_object.line(460, 64, 460, 94);\n",
       "canvas_bc_ask_canvas_object.line(340, 94, 460, 94);\n",
       "canvas_bc_ask_canvas_object.fill(0, 0, 0);\n",
       "canvas_bc_ask_canvas_object.fill_text(\"Graduate(Std_A)\", 348, 88);\n",
       "canvas_bc_ask_canvas_object.fill(200, 200, 200);\n",
       "canvas_bc_ask_canvas_object.rect(55, 191, 120, 30);\n",
       "canvas_bc_ask_canvas_object.line(55, 191, 175, 191);\n",
       "canvas_bc_ask_canvas_object.line(55, 191, 55, 221);\n",
       "canvas_bc_ask_canvas_object.line(175, 191, 175, 221);\n",
       "canvas_bc_ask_canvas_object.line(55, 221, 175, 221);\n",
       "canvas_bc_ask_canvas_object.fill(0, 0, 0);\n",
       "canvas_bc_ask_canvas_object.fill_text(\"Student(Std_A)\", 63, 215);\n",
       "canvas_bc_ask_canvas_object.fill(200, 200, 200);\n",
       "canvas_bc_ask_canvas_object.rect(245, 191, 120, 30);\n",
       "canvas_bc_ask_canvas_object.line(245, 191, 365, 191);\n",
       "canvas_bc_ask_canvas_object.line(245, 191, 245, 221);\n",
       "canvas_bc_ask_canvas_object.line(365, 191, 365, 221);\n",
       "canvas_bc_ask_canvas_object.line(245, 221, 365, 221);\n",
       "canvas_bc_ask_canvas_object.fill(0, 0, 0);\n",
       "canvas_bc_ask_canvas_object.fill_text(\"English(Std_A, P)\", 253, 215);\n",
       "canvas_bc_ask_canvas_object.fill(200, 200, 200);\n",
       "canvas_bc_ask_canvas_object.rect(435, 191, 120, 30);\n",
       "canvas_bc_ask_canvas_object.line(435, 191, 555, 191);\n",
       "canvas_bc_ask_canvas_object.line(435, 191, 435, 221);\n",
       "canvas_bc_ask_canvas_object.line(555, 191, 555, 221);\n",
       "canvas_bc_ask_canvas_object.line(435, 221, 555, 221);\n",
       "canvas_bc_ask_canvas_object.fill(0, 0, 0);\n",
       "canvas_bc_ask_canvas_object.fill_text(\"Subject(Std_A, O, D, T)\", 443, 215);\n",
       "canvas_bc_ask_canvas_object.fill(200, 200, 200);\n",
       "canvas_bc_ask_canvas_object.rect(625, 191, 120, 30);\n",
       "canvas_bc_ask_canvas_object.line(625, 191, 745, 191);\n",
       "canvas_bc_ask_canvas_object.line(625, 191, 625, 221);\n",
       "canvas_bc_ask_canvas_object.line(745, 191, 745, 221);\n",
       "canvas_bc_ask_canvas_object.line(625, 221, 745, 221);\n",
       "canvas_bc_ask_canvas_object.fill(0, 0, 0);\n",
       "canvas_bc_ask_canvas_object.fill_text(\"Paper(Std_A, D)\", 633, 215);\n",
       "canvas_bc_ask_canvas_object.fill(200, 200, 200);\n",
       "canvas_bc_ask_canvas_object.rect(36, 319, 120, 30);\n",
       "canvas_bc_ask_canvas_object.line(36, 319, 156, 319);\n",
       "canvas_bc_ask_canvas_object.line(36, 319, 36, 349);\n",
       "canvas_bc_ask_canvas_object.line(156, 319, 156, 349);\n",
       "canvas_bc_ask_canvas_object.line(36, 349, 156, 349);\n",
       "canvas_bc_ask_canvas_object.fill(0, 0, 0);\n",
       "canvas_bc_ask_canvas_object.fill_text(\"TOEIC(P)\", 44, 343);\n",
       "canvas_bc_ask_canvas_object.fill(200, 200, 200);\n",
       "canvas_bc_ask_canvas_object.rect(188, 319, 120, 30);\n",
       "canvas_bc_ask_canvas_object.line(188, 319, 308, 319);\n",
       "canvas_bc_ask_canvas_object.line(188, 319, 188, 349);\n",
       "canvas_bc_ask_canvas_object.line(308, 319, 308, 349);\n",
       "canvas_bc_ask_canvas_object.line(188, 349, 308, 349);\n",
       "canvas_bc_ask_canvas_object.fill(0, 0, 0);\n",
       "canvas_bc_ask_canvas_object.fill_text(\"OMS(O)\", 196, 343);\n",
       "canvas_bc_ask_canvas_object.fill(200, 200, 200);\n",
       "canvas_bc_ask_canvas_object.rect(340, 319, 120, 30);\n",
       "canvas_bc_ask_canvas_object.line(340, 319, 460, 319);\n",
       "canvas_bc_ask_canvas_object.line(340, 319, 340, 349);\n",
       "canvas_bc_ask_canvas_object.line(460, 319, 460, 349);\n",
       "canvas_bc_ask_canvas_object.line(340, 349, 460, 349);\n",
       "canvas_bc_ask_canvas_object.fill(0, 0, 0);\n",
       "canvas_bc_ask_canvas_object.fill_text(\"DS(D)\", 348, 343);\n",
       "canvas_bc_ask_canvas_object.fill(200, 200, 200);\n",
       "canvas_bc_ask_canvas_object.rect(492, 319, 120, 30);\n",
       "canvas_bc_ask_canvas_object.line(492, 319, 612, 319);\n",
       "canvas_bc_ask_canvas_object.line(492, 319, 492, 349);\n",
       "canvas_bc_ask_canvas_object.line(612, 319, 612, 349);\n",
       "canvas_bc_ask_canvas_object.line(492, 349, 612, 349);\n",
       "canvas_bc_ask_canvas_object.fill(0, 0, 0);\n",
       "canvas_bc_ask_canvas_object.fill_text(\"TM(T)\", 500, 343);\n",
       "canvas_bc_ask_canvas_object.fill(200, 200, 200);\n",
       "canvas_bc_ask_canvas_object.rect(644, 319, 120, 30);\n",
       "canvas_bc_ask_canvas_object.line(644, 319, 764, 319);\n",
       "canvas_bc_ask_canvas_object.line(644, 319, 644, 349);\n",
       "canvas_bc_ask_canvas_object.line(764, 319, 764, 349);\n",
       "canvas_bc_ask_canvas_object.line(644, 349, 764, 349);\n",
       "canvas_bc_ask_canvas_object.fill(0, 0, 0);\n",
       "canvas_bc_ask_canvas_object.fill_text(\"DS(D)\", 652, 343);\n",
       "canvas_bc_ask_canvas_object.fill(200, 200, 200);\n",
       "canvas_bc_ask_canvas_object.rect(55, 446, 120, 30);\n",
       "canvas_bc_ask_canvas_object.line(55, 446, 175, 446);\n",
       "canvas_bc_ask_canvas_object.line(55, 446, 55, 476);\n",
       "canvas_bc_ask_canvas_object.line(175, 446, 175, 476);\n",
       "canvas_bc_ask_canvas_object.line(55, 476, 175, 476);\n",
       "canvas_bc_ask_canvas_object.fill(0, 0, 0);\n",
       "canvas_bc_ask_canvas_object.fill_text(\"OMS_pass(O)\", 63, 470);\n",
       "canvas_bc_ask_canvas_object.fill(200, 200, 200);\n",
       "canvas_bc_ask_canvas_object.rect(245, 446, 120, 30);\n",
       "canvas_bc_ask_canvas_object.line(245, 446, 365, 446);\n",
       "canvas_bc_ask_canvas_object.line(245, 446, 245, 476);\n",
       "canvas_bc_ask_canvas_object.line(365, 446, 365, 476);\n",
       "canvas_bc_ask_canvas_object.line(245, 476, 365, 476);\n",
       "canvas_bc_ask_canvas_object.fill(0, 0, 0);\n",
       "canvas_bc_ask_canvas_object.fill_text(\"DS_pass(D)\", 253, 470);\n",
       "canvas_bc_ask_canvas_object.fill(200, 200, 200);\n",
       "canvas_bc_ask_canvas_object.rect(435, 446, 120, 30);\n",
       "canvas_bc_ask_canvas_object.line(435, 446, 555, 446);\n",
       "canvas_bc_ask_canvas_object.line(435, 446, 435, 476);\n",
       "canvas_bc_ask_canvas_object.line(555, 446, 555, 476);\n",
       "canvas_bc_ask_canvas_object.line(435, 476, 555, 476);\n",
       "canvas_bc_ask_canvas_object.fill(0, 0, 0);\n",
       "canvas_bc_ask_canvas_object.fill_text(\"TM_pass(T)\", 443, 470);\n",
       "canvas_bc_ask_canvas_object.fill(200, 200, 200);\n",
       "canvas_bc_ask_canvas_object.rect(625, 446, 120, 30);\n",
       "canvas_bc_ask_canvas_object.line(625, 446, 745, 446);\n",
       "canvas_bc_ask_canvas_object.line(625, 446, 625, 476);\n",
       "canvas_bc_ask_canvas_object.line(745, 446, 745, 476);\n",
       "canvas_bc_ask_canvas_object.line(625, 476, 745, 476);\n",
       "canvas_bc_ask_canvas_object.fill(0, 0, 0);\n",
       "canvas_bc_ask_canvas_object.fill_text(\"DS_pass(D)\", 633, 470);\n",
       "canvas_bc_ask_canvas_object.line(495, 221, 400, 319);\n",
       "canvas_bc_ask_canvas_object.line(495, 221, 248, 319);\n",
       "canvas_bc_ask_canvas_object.line(305, 221, 96, 319);\n",
       "canvas_bc_ask_canvas_object.line(495, 221, 552, 319);\n",
       "canvas_bc_ask_canvas_object.line(400, 94, 495, 191);\n",
       "canvas_bc_ask_canvas_object.line(400, 94, 685, 191);\n",
       "canvas_bc_ask_canvas_object.line(400, 349, 305, 446);\n",
       "canvas_bc_ask_canvas_object.line(552, 349, 495, 446);\n",
       "canvas_bc_ask_canvas_object.line(704, 349, 685, 446);\n",
       "canvas_bc_ask_canvas_object.line(685, 221, 704, 319);\n",
       "canvas_bc_ask_canvas_object.line(400, 94, 305, 191);\n",
       "canvas_bc_ask_canvas_object.line(248, 349, 115, 446);\n",
       "canvas_bc_ask_canvas_object.line(400, 94, 115, 191);\n",
       "canvas_bc_ask_canvas_object.fill(255, 255, 255);\n",
       "canvas_bc_ask_canvas_object.rect(0, 540, 800, 60);\n",
       "canvas_bc_ask_canvas_object.strokeWidth(5);\n",
       "canvas_bc_ask_canvas_object.stroke(0, 0, 0);\n",
       "canvas_bc_ask_canvas_object.line(0, 540, 800, 540);\n",
       "canvas_bc_ask_canvas_object.font(\"22px Arial\");\n",
       "canvas_bc_ask_canvas_object.fill(0, 0, 0);\n",
       "canvas_bc_ask_canvas_object.fill_text(\"Click for text\", 20, 585);\n",
       "</script>"
      ],
      "text/plain": [
       "<IPython.core.display.HTML object>"
      ]
     },
     "metadata": {},
     "output_type": "display_data"
    }
   ],
   "source": [
    "from notebook import Canvas_fol_bc_ask\n",
    "canvas_bc_ask = Canvas_fol_bc_ask('canvas_bc_ask', Gr_kb, expr('Graduate(a)'))"
   ]
  },
  {
   "cell_type": "code",
   "execution_count": null,
   "id": "882694d4",
   "metadata": {},
   "outputs": [],
   "source": []
  }
 ],
 "metadata": {
  "kernelspec": {
   "display_name": "Python 3",
   "language": "python",
   "name": "python3"
  },
  "language_info": {
   "codemirror_mode": {
    "name": "ipython",
    "version": 3
   },
   "file_extension": ".py",
   "mimetype": "text/x-python",
   "name": "python",
   "nbconvert_exporter": "python",
   "pygments_lexer": "ipython3",
   "version": "3.7.10"
  }
 },
 "nbformat": 4,
 "nbformat_minor": 5
}
