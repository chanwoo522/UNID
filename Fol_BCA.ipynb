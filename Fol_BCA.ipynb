{
 "cells": [
  {
   "cell_type": "code",
   "execution_count": null,
   "id": "4057541e",
   "metadata": {},
   "outputs": [],
   "source": [
    "from utils import *\n",
    "from logic import *\n",
    "from notebook import psource"
   ]
  },
  {
   "cell_type": "markdown",
   "id": "4465ae3b",
   "metadata": {},
   "source": [
    "# crime KB 입력"
   ]
  },
  {
   "cell_type": "code",
   "execution_count": null,
   "id": "d6a6c512",
   "metadata": {},
   "outputs": [],
   "source": [
    "clauses = []\n",
    "clauses.append(expr(\"(American(x) & Weapon(y) & Sells(x, y, z) & Hostile(z)) ==> Criminal(x)\"))\n",
    "clauses.append(expr(\"Enemy(Nono, America)\"))\n",
    "clauses.append(expr(\"Owns(Nono, M1)\"))\n",
    "clauses.append(expr(\"Missile(M1)\"))\n",
    "clauses.append(expr(\"(Missile(x) & Owns(Nono, x)) ==> Sells(West, x, Nono)\"))\n",
    "clauses.append(expr(\"American(West)\"))\n",
    "clauses.append(expr(\"Missile(x) ==> Weapon(x)\"))\n",
    "clauses.append(expr(\"Enemy(x, America) ==> Hostile(x)\"))\n",
    "crime_kb = FolKB(clauses)"
   ]
  },
  {
   "cell_type": "markdown",
   "id": "9c0b7dc0",
   "metadata": {},
   "source": [
    "# Backward chaining Algorithm"
   ]
  },
  {
   "cell_type": "code",
   "execution_count": null,
   "id": "7dde74db",
   "metadata": {},
   "outputs": [],
   "source": [
    "def fol_bc_ask(kb, query):\n",
    "    return fol_bc_or(kb, query, {})"
   ]
  },
  {
   "cell_type": "markdown",
   "id": "92ff4eaa",
   "metadata": {},
   "source": [
    "#### OR"
   ]
  },
  {
   "cell_type": "raw",
   "id": "c6048996",
   "metadata": {},
   "source": [
    "def is_definite_clause(s):\n",
    "    \"\"\"Returns True for exprs s of the form A & B & ... & C ==> D,\n",
    "    where all literals are positive. In clause form, this is\n",
    "    ~A | ~B | ... | ~C | D, where exactly one clause is positive.\n",
    "    >>> is_definite_clause(expr('Farmer(Mac)'))\n",
    "    True\n",
    "    \"\"\"\n",
    "    if is_symbol(s.op):\n",
    "        return True\n",
    "    elif s.op == '==>':\n",
    "        antecedent, consequent = s.args\n",
    "        return is_symbol(consequent.op) and all(is_symbol(arg.op) for arg in conjuncts(antecedent))\n",
    "    else:\n",
    "        return False"
   ]
  },
  {
   "cell_type": "raw",
   "id": "51368609",
   "metadata": {},
   "source": [
    "def is_symbol(s):\n",
    "    \"\"\"A string s is a symbol if it starts with an alphabetic char.\n",
    "    >>> is_symbol('R2D2')\n",
    "    True\n",
    "    \"\"\"\n",
    "    return isinstance(s, str) and s[:1].isalpha()"
   ]
  },
  {
   "cell_type": "raw",
   "id": "fde3d812",
   "metadata": {},
   "source": [
    "def parse_definite_clause(s):\n",
    "    \"\"\"Return the antecedents and the consequent of a definite clause.\"\"\"\n",
    "    assert is_definite_clause(s)\n",
    "    if is_symbol(s.op):\n",
    "        return [], s\n",
    "    else:\n",
    "        antecedent, consequent = s.args\n",
    "        return conjuncts(antecedent), consequent"
   ]
  },
  {
   "cell_type": "raw",
   "id": "04d39817",
   "metadata": {},
   "source": [
    "def standardize_variables(sentence, dic=None):\n",
    "    \"\"\"Replace all the variables in sentence with new variables.\"\"\"\n",
    "    if dic is None:\n",
    "        dic = {}\n",
    "    if not isinstance(sentence, Expr):\n",
    "        return sentence\n",
    "    elif is_var_symbol(sentence.op):\n",
    "        if sentence in dic:\n",
    "            return dic[sentence]\n",
    "        else:\n",
    "            v = Expr('v_{}'.format(next(standardize_variables.counter)))\n",
    "            dic[sentence] = v\n",
    "            return v\n",
    "    else:\n",
    "        return Expr(sentence.op, *[standardize_variables(a, dic) for a in sentence.args])\n",
    "\n",
    "\n",
    "standardize_variables.counter = itertools.count()"
   ]
  },
  {
   "cell_type": "raw",
   "id": "e8d4bacb",
   "metadata": {},
   "source": [
    "class FolKB(KB):\n",
    "    def fetch_rules_for_goal(self, goal):\n",
    "        return self.clauses"
   ]
  },
  {
   "cell_type": "code",
   "execution_count": null,
   "id": "6e92d430",
   "metadata": {},
   "outputs": [],
   "source": [
    "def fol_bc_or(KB, goal, theta):\n",
    "    for rule in KB.fetch_rules_for_goal(goal):\n",
    "        lhs, rhs = parse_definite_clause(standardize_variables(rule))\n",
    "        for theta1 in fol_bc_and(KB, lhs, unify(rhs, goal, theta)):\n",
    "            yield theta1"
   ]
  },
  {
   "cell_type": "markdown",
   "id": "299fa90f",
   "metadata": {},
   "source": [
    "### And"
   ]
  },
  {
   "cell_type": "code",
   "execution_count": null,
   "id": "1df75c69",
   "metadata": {},
   "outputs": [],
   "source": [
    "def fol_bc_and(KB, goals, theta):\n",
    "    if theta is None:\n",
    "        pass\n",
    "    elif not goals:\n",
    "        yield theta\n",
    "    else:\n",
    "        first, rest = goals[0], goals[1:]\n",
    "        for theta1 in fol_bc_or(KB, subst(theta, first), theta):\n",
    "            for theta2 in fol_bc_and(KB, rest, theta1):\n",
    "                yield theta2"
   ]
  },
  {
   "cell_type": "markdown",
   "id": "a68cd22c",
   "metadata": {},
   "source": [
    "# Result"
   ]
  },
  {
   "cell_type": "code",
   "execution_count": null,
   "id": "f233c9ab",
   "metadata": {
    "scrolled": true
   },
   "outputs": [],
   "source": [
    "crime_kb.ask(expr('Hostile(x)'))"
   ]
  },
  {
   "cell_type": "code",
   "execution_count": null,
   "id": "a5bb6c39",
   "metadata": {},
   "outputs": [],
   "source": [
    "crime_kb.ask(expr('Criminal(x)'))"
   ]
  },
  {
   "cell_type": "code",
   "execution_count": null,
   "id": "cb19298e",
   "metadata": {
    "scrolled": true
   },
   "outputs": [],
   "source": [
    "crime_kb.ask(expr('Criminal(West)'))"
   ]
  },
  {
   "cell_type": "code",
   "execution_count": null,
   "id": "e08a533a",
   "metadata": {},
   "outputs": [],
   "source": [
    "crime_kb.ask(expr('American(x)'))"
   ]
  },
  {
   "cell_type": "code",
   "execution_count": null,
   "id": "3ee1707f",
   "metadata": {},
   "outputs": [],
   "source": [
    "crime_kb.ask(expr('Sells(x, y, z)'))"
   ]
  },
  {
   "cell_type": "code",
   "execution_count": null,
   "id": "57222fee",
   "metadata": {},
   "outputs": [],
   "source": [
    "crime_kb.ask(expr('Weapon(y)'))"
   ]
  },
  {
   "cell_type": "code",
   "execution_count": null,
   "id": "d3467cc1",
   "metadata": {},
   "outputs": [],
   "source": [
    "%%timeit -n 100\n",
    "fol_fc_ask(crime_kb, expr('Criminal(x)'))"
   ]
  },
  {
   "cell_type": "code",
   "execution_count": null,
   "id": "d9ceef60",
   "metadata": {},
   "outputs": [],
   "source": [
    "%%timeit -n 100\n",
    "crime_kb.ask(expr('Criminal(x)'))"
   ]
  },
  {
   "cell_type": "markdown",
   "id": "f0c53079",
   "metadata": {},
   "source": [
    "# Practice"
   ]
  },
  {
   "cell_type": "markdown",
   "id": "2b736e02",
   "metadata": {},
   "source": [
    "### 산업공학과 대학원 석사과정 졸업요건('21. 3월 개정)\n",
    "##### 실습을 위하여 상당 부분 요약 또는 생략하였습니다.\n",
    "1. 분야별 과목 수강: OMS, DS, TM 분야 모두를 수강해야 한다.\n",
    "2. 영어시험 합격: TOEFL 또는 TOEIC 또는 TEPS을 합격해야 한다.\n",
    "3. 논문을 발표해야 한다."
   ]
  },
  {
   "cell_type": "markdown",
   "id": "69017825",
   "metadata": {},
   "source": [
    "Graduate(x): x can get a master's degree\\\n",
    "Student(x): x is a student\\\n",
    "Subject(x, y): x passed all subjects y\\\n",
    "English(x, y): x acquired a english certification y\\\n",
    "Paper(x, y): x released a paper on the subject y"
   ]
  },
  {
   "cell_type": "markdown",
   "id": "79aa2296",
   "metadata": {},
   "source": [
    "Student(a) & Subject(a, x) & English(a, y) & Paper(a, z) => Graduate(a)"
   ]
  },
  {
   "cell_type": "markdown",
   "id": "07115dc8",
   "metadata": {},
   "source": [
    "##### case: 학생A는 분야별 과목을 모두 수강하였으며 영어시험은 TOEIC으로 합격했고 DS분야로 논문 발표를 마쳤다."
   ]
  },
  {
   "cell_type": "code",
   "execution_count": null,
   "id": "333d4227",
   "metadata": {},
   "outputs": [],
   "source": [
    "clauses = []"
   ]
  },
  {
   "cell_type": "code",
   "execution_count": null,
   "id": "d2bc29bf",
   "metadata": {},
   "outputs": [],
   "source": [
    "clauses.append(expr('Student(a) & English(a, x) & Subject(a, o, d, t) & Paper(a, y) ==> Graduate(a)'))"
   ]
  },
  {
   "cell_type": "code",
   "execution_count": null,
   "id": "f262e6b3",
   "metadata": {},
   "outputs": [],
   "source": [
    "clauses.append(expr('Student(Std_A)'))"
   ]
  },
  {
   "cell_type": "code",
   "execution_count": null,
   "id": "fda0d82e",
   "metadata": {},
   "outputs": [],
   "source": [
    "clauses.append(expr('(OMS(x) & DS(y) & TM(z)) ==> Subject(a, x, y, z)'))\n",
    "clauses.append(expr('OMS_pass(O)'))\n",
    "clauses.append(expr('DS_pass(D)'))\n",
    "clauses.append(expr('TM_pass(T)'))\n",
    "clauses.append(expr('OMS_pass(x) ==> OMS(x)'))\n",
    "clauses.append(expr('DS_pass(x) ==> DS(x)'))\n",
    "clauses.append(expr('DS(x) ==> Paper(a, x)'))\n",
    "clauses.append(expr('TM_pass(x) ==> TM(x)'))"
   ]
  },
  {
   "cell_type": "code",
   "execution_count": null,
   "id": "cbc9ac33",
   "metadata": {},
   "outputs": [],
   "source": [
    "clauses.append(expr('TOEIC(P)'))"
   ]
  },
  {
   "cell_type": "code",
   "execution_count": null,
   "id": "85e2806e",
   "metadata": {},
   "outputs": [],
   "source": [
    "clauses.append(expr('TOEIC(x) ==> English(a, x)'))"
   ]
  },
  {
   "cell_type": "code",
   "execution_count": null,
   "id": "ed67ec6a",
   "metadata": {},
   "outputs": [],
   "source": [
    "Gr_kb = FolKB(clauses)"
   ]
  },
  {
   "cell_type": "markdown",
   "id": "f654b5e3",
   "metadata": {},
   "source": [
    "##### Fol Backward Chaining Algorithm result"
   ]
  },
  {
   "cell_type": "code",
   "execution_count": null,
   "id": "0ff6c82e",
   "metadata": {},
   "outputs": [],
   "source": [
    "Gr_kb.ask(expr('Graduate(a)'))"
   ]
  },
  {
   "cell_type": "code",
   "execution_count": null,
   "id": "9fcd02e4",
   "metadata": {},
   "outputs": [],
   "source": [
    "from notebook import Canvas_fol_bc_ask\n",
    "canvas_bc_ask = Canvas_fol_bc_ask('canvas_bc_ask', Gr_kb, expr('Graduate(a)'))"
   ]
  },
  {
   "cell_type": "code",
   "execution_count": null,
   "id": "882694d4",
   "metadata": {},
   "outputs": [],
   "source": []
  }
 ],
 "metadata": {
  "kernelspec": {
   "display_name": "Python 3",
   "language": "python",
   "name": "python3"
  },
  "language_info": {
   "codemirror_mode": {
    "name": "ipython",
    "version": 3
   },
   "file_extension": ".py",
   "mimetype": "text/x-python",
   "name": "python",
   "nbconvert_exporter": "python",
   "pygments_lexer": "ipython3",
   "version": "3.7.10"
  }
 },
 "nbformat": 4,
 "nbformat_minor": 5
}
